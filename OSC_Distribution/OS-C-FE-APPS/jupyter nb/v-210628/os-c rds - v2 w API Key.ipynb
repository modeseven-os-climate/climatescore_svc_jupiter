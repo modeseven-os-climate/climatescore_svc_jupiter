{
 "cells": [
  {
   "cell_type": "code",
   "execution_count": 1,
   "id": "da26807b",
   "metadata": {},
   "outputs": [
    {
     "name": "stdout",
     "output_type": "stream",
     "text": [
      "Num of Queries: 100 Time Elapsed: 5.645275831222534 Queries Per Second: 17.713926296909413\n"
     ]
    }
   ],
   "source": [
    "import requests\n",
    "import random\n",
    "import time\n",
    "import json\n",
    "\n",
    "\n",
    "#url = \"https://api-phase3-osc.jupiterintel.com/location\"\n",
    "#Num of Queries: 1000 Time Elapsed: 53.87759804725647 Queries Per Second: 18.56058986005449\n",
    "#Num of Queries: 1000 Time Elapsed: 59.1816782951355 Queries Per Second: 16.89712135254191\n",
    "#Num of Queries: 10000 Time Elapsed: 559.5767290592194 Queries Per Second: 17.870650226667507\n",
    "\n",
    "url = \"https://api-phase3-osc.jupiterintel.com/location\"\n",
    "start = time.time()\n",
    "numTimes = 1\n",
    "for numTest in range(numTimes):\n",
    "    \n",
    "    numLocations = 100\n",
    "    locations = []\n",
    "    for i in range(numLocations):\n",
    "        lon = random.uniform(-180, 180)\n",
    "        lat = random.uniform(-90,90)\n",
    "        location = {\"latitude\":lat,\"longitude\":lon }\n",
    "        locations.append(location)\n",
    "   \n",
    "\n",
    "    headers = {\n",
    "        'X-API-Key': '1234567890',\n",
    "        'Content-Type': 'application/json'\n",
    "    }\n",
    "     \n",
    "    payload = {}\n",
    "    payload[\"locations\"] = locations\n",
    "    payload[\"perils\"]=['fire','hail','heat','combinedFlood','precip','drought','wind'] # []=all\n",
    "    payload[\"scenarios\"] = [\"ssp126\",\"ssp585\"] #[] = all\n",
    "    payload[\"years\"] = [2020,2030,2040,2050,2075,2100] #[] = all\n",
    "    \n",
    "\n",
    "    response = requests.request(\"POST\", url, headers=headers, data=json.dumps(payload))\n",
    "    data = response.json()\n",
    "    #print(data) #Uncomment to display data\n",
    "    \n",
    "end = time.time()\n",
    "\n",
    "print(\"Num of Queries:\",numTimes*numLocations,\"Time Elapsed:\",end - start,\"Queries Per Second:\",numTimes*numLocations/(end-start))"
   ]
  },
  {
   "cell_type": "markdown",
   "id": "1268a660",
   "metadata": {},
   "source": [
    "# Models for Climate Projection\n",
    "\n",
    "CSG uses global climate model (GCM) projections to estimate future changes in hazardous environmental perils.  A number of major governmental laboratories and academic groups globally have produced their own GCM systems for simulating the global climate.   A modern GCM typically consists of a number of different component models. Each component model in the GCM simulates a specific aspect of the earth system, including components like:\n",
    "\n",
    "Atmosphere\n",
    "\n",
    "Ocean\n",
    "\n",
    "Land surface\n",
    "\n",
    "Ice and glaciers\n",
    "\n",
    "Atmospheric chemistry\n",
    "\n",
    "Biogeochemistry\n",
    "\n",
    "Ecosystem\n",
    "\n",
    "Each of these model components contains a series of computer algorithms that replicate the physics of each aspect of earth system, but they are run together to simulate feedback between different components.  "
   ]
  },
  {
   "cell_type": "markdown",
   "id": "5d4761eb",
   "metadata": {},
   "source": [
    "# Perils\n",
    "\n",
    "CSG projects how specific metrics related to hazardous environmental events may change in the future.  These perils include:\n",
    "\n",
    "\n",
    "FIRE \n",
    "metric: \"fireprobability\"\n",
    "description: The expected maximum annual probability of a large fire in the vicinity.\n",
    "\n",
    "HAIL\n",
    "metric: \"dayslargehailpossible\"\n",
    "description: The annual frequency of days with environments capable of producing organized thunderstorms or large hail\n",
    "\n",
    "DROUGHT\n",
    "metric: \"monthsextreme3mospei\"\n",
    "description: The annual frequency of months where multi-month precipitation does not completely meet the demands of the vegetation\n",
    "\n",
    "HEAT\n",
    "metric: \"daysexceeding35c\", \"daysexceeding38c\"\n",
    "description: Days exceeding specific thresholds.\n",
    "\n",
    "WIND\n",
    "metric: \"windspeed100yr\"\n",
    "description: The wind speeds expected to occur with a given probability each year.\n",
    "\n",
    "PRECIP\n",
    "metric: \"onedayprecip100yr\"\n",
    "description: The daily precipitation expected to occur with a given probability each year.\n"
   ]
  },
  {
   "cell_type": "markdown",
   "id": "ab33e610",
   "metadata": {},
   "source": [
    "# Scenarios\n",
    "Climate Model Scenarios\n",
    "Global Climate Models (GCMs) are typically calibrated against historical observations of global climate, and then used to simulate multiple possible trajectories of the future climate, called scenarios.\n",
    "\n",
    "In CSG, Jupiter largely follows the scenarios used in the climate modeling community.  These are summarized the table below.\n",
    "\n",
    "Jupiter Scenario   Years Included  \n",
    "\n",
    "RCP8.5/SSP585      2020-2100, every 5 years\n",
    "\n",
    "Notes:\n",
    "The expected change in the climate under a high-emissions scenario.  For each year in the output, the climate in an 11-year window is considered as indicative of that year’s climate.\n",
    "\n",
    "RCP2.6/SSP126      2020-2100, every 5 years\n",
    "\n",
    "Notes:\n",
    "The expected change in the climate under a low-emissions scenario.  For each year in the output, the climate in an 11-year window is considered as indicative of that year’s climate."
   ]
  },
  {
   "cell_type": "code",
   "execution_count": null,
   "id": "bde5c9bc",
   "metadata": {},
   "outputs": [],
   "source": []
  }
 ],
 "metadata": {
  "kernelspec": {
   "display_name": "Python 3",
   "language": "python",
   "name": "python3"
  },
  "language_info": {
   "codemirror_mode": {
    "name": "ipython",
    "version": 3
   },
   "file_extension": ".py",
   "mimetype": "text/x-python",
   "name": "python",
   "nbconvert_exporter": "python",
   "pygments_lexer": "ipython3",
   "version": "3.7.10"
  }
 },
 "nbformat": 4,
 "nbformat_minor": 5
}
